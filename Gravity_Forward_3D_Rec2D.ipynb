{
 "cells": [
  {
   "cell_type": "markdown",
   "id": "ff555554-74bc-4a38-9305-adad33c92f30",
   "metadata": {},
   "source": [
    "## Gravity 3D forward model ##\n",
    "\n",
    "This is the most current version of the 3D gravity forward code\n",
    "\n",
    "Coordinates organised similarly to node arrays -- receivers can be 1D, 2D, 3D now. \n",
    "\n",
    "### Input density is in g/kg^3 currently! ###"
   ]
  },
  {
   "cell_type": "code",
   "execution_count": 1,
   "id": "7be22d9e-b56c-43c8-a1ab-a613651e4daa",
   "metadata": {},
   "outputs": [],
   "source": [
    "import numpy as np\n",
    "import matplotlib.pyplot as plt\n",
    "from discretize.utils import mkvc\n",
    "from scipy.constants import G"
   ]
  },
  {
   "cell_type": "markdown",
   "id": "2ba8c365-7e24-4644-b310-97e30343fbe9",
   "metadata": {},
   "source": [
    "### Load / alter model ###\n",
    "\n",
    "Original model was created using the <code>SimPEG - discretize</code> toolbox."
   ]
  },
  {
   "cell_type": "code",
   "execution_count": 2,
   "id": "80d8ccf5-c6ae-4bf8-bf7b-9916073cfd30",
   "metadata": {},
   "outputs": [],
   "source": [
    "model1d=np.load(file='Test_data.npy')\n",
    "\n",
    "# Simple density change of loaded model (background density=10)\n",
    "model1d[model1d > 10] = 2000\n",
    "model1d[model1d ==10] = 0\n"
   ]
  },
  {
   "cell_type": "markdown",
   "id": "34fac287-4dcd-4146-a56a-5f5a68fd31cc",
   "metadata": {},
   "source": [
    "### Define some functions ### "
   ]
  },
  {
   "cell_type": "code",
   "execution_count": 3,
   "id": "4d39b6de-e3c8-476e-87b7-665b2b22d014",
   "metadata": {},
   "outputs": [],
   "source": [
    "def cartesian(arrays, out=None):\n",
    "    arrays = [np.asarray(x) for x in arrays]\n",
    "    dtype = arrays[0].dtype\n",
    "\n",
    "    n = np.prod([x.size for x in arrays])\n",
    "    if out is None:\n",
    "        out = np.zeros([n, len(arrays)], dtype=dtype)\n",
    "\n",
    "    #m = n / arrays[0].size\n",
    "    m = int(n / arrays[0].size) \n",
    "    out[:,0] = np.repeat(arrays[0], m)\n",
    "    if arrays[1:]:\n",
    "        cartesian(arrays[1:], out=out[0:m, 1:])\n",
    "        for j in range(1, arrays[0].size):\n",
    "        #for j in xrange(1, arrays[0].size):\n",
    "            out[j*m:(j+1)*m, 1:] = out[0:m, 1:]\n",
    "    return out\n"
   ]
  },
  {
   "cell_type": "markdown",
   "id": "4c283786-19d6-42d7-ad96-483170ed4753",
   "metadata": {},
   "source": [
    "### Test model: Low background density with cube of higher density in the middle ###"
   ]
  },
  {
   "cell_type": "code",
   "execution_count": 4,
   "id": "ac439753-62c5-4179-9662-58fb0f57dcee",
   "metadata": {},
   "outputs": [
    {
     "data": {
      "image/png": "[encoded data removed]",
      "text/plain": [
       "<Figure size 1080x576 with 2 Axes>"
      ]
     },
     "metadata": {
      "needs_background": "light"
     },
     "output_type": "display_data"
    }
   ],
   "source": [
    "model2d=model1d.reshape(12,12,12)\n",
    "fig = plt.figure(figsize=(15, 8))\n",
    "plt.title(\"Model slice at z=25\")\n",
    "plt.imshow(model2d[:,:,5])\n",
    "plt.colorbar()\n",
    "plt.show()"
   ]
  },
  {
   "cell_type": "markdown",
   "id": "c531aca9-2ca1-4f39-b289-d830146d90a9",
   "metadata": {
    "tags": []
   },
   "source": [
    "### Create model geometry ###\n",
    "I.e. create node vectors for x, y, z."
   ]
  },
  {
   "cell_type": "code",
   "execution_count": 5,
   "id": "a1a3c261-250a-4656-b84b-d4ab890c342c",
   "metadata": {},
   "outputs": [],
   "source": [
    "# Create array of all nodes for each direction\n",
    "x_node_slice=np.linspace(-30,30,len(model2d)+1) # +1 for switch from cells to nodes\n",
    "y_node_slice=np.linspace(-30,30,len(model2d)+1) # +1 for switch from cells to nodes\n",
    "z_node_slice=np.linspace(0,-60,len(model2d)+1) # +1 for switch from cells to nodes\n",
    "z_node_slice=np.flipud(z_node_slice) # SimPEG starts at minimum z value\n",
    "# Change boundary cells to create larger, homogeneous model:\n",
    "x_node_slice[0]=x_node_slice[0]-995\n",
    "y_node_slice[0]=y_node_slice[0]-995\n",
    "x_node_slice[-1]=x_node_slice[-1]+995\n",
    "y_node_slice[-1]=y_node_slice[-1]+995\n",
    "\n",
    "# Combine the 3 node arrays to get start&finish of each prism edge\n",
    "# 2 rows per array: Start and finish of each edge\n",
    "coords_p1=cartesian((z_node_slice[0:-1],y_node_slice[0:-1],x_node_slice[0:-1]))\n",
    "coords_p2=cartesian((z_node_slice[1:],y_node_slice[1:],x_node_slice[1:]))\n",
    "\n",
    "# Bring output in order for x,y,z\n",
    "temp1=coords_p1[:,0]\n",
    "temp2=coords_p2[:,0]\n",
    "temp1=temp1[:, np.newaxis]\n",
    "temp2=temp2[:, np.newaxis]\n",
    "z_final=np.append(temp1, temp2, axis=1)\n",
    "\n",
    "temp1=coords_p1[:,1]\n",
    "temp2=coords_p2[:,1]\n",
    "temp1=temp1[:, np.newaxis]\n",
    "temp2=temp2[:, np.newaxis]\n",
    "y_final=np.append(temp1, temp2, axis=1)\n",
    "\n",
    "temp1=coords_p1[:,2]\n",
    "temp2=coords_p2[:,2]\n",
    "temp1=temp1[:, np.newaxis]\n",
    "temp2=temp2[:, np.newaxis]\n",
    "x_final=np.append(temp1, temp2, axis=1)\n"
   ]
  },
  {
   "cell_type": "markdown",
   "id": "128bed8d-daf7-4f72-bb60-fbf4be196541",
   "metadata": {},
   "source": [
    "### Define functions for kernel and gravity calculation ###\n",
    "More information ca be found here:\n",
    "- Plouff, D., 1976. Gravity and magnetic fields of polygonal prisms and application to magnetic terrain corrections. Geophysics, 41(4), pp.727-741.\n",
    "- Nagy, D., Papp, G. and Benedek, J., 2000. The gravitational potential and its derivatives for the prism. Journal of Geodesy, 74(7), pp.552-560."
   ]
  },
  {
   "cell_type": "code",
   "execution_count": 6,
   "id": "1bd04e4e-6e02-401e-9636-a4680b60b361",
   "metadata": {},
   "outputs": [],
   "source": [
    "def kernel(ii,jj,kk,dx,dy,dz,dim):\n",
    "    \n",
    "    r = (dx[:, ii] ** 2 + dy[:, jj] ** 2 + dz[:, kk]** 2) ** (0.50)\n",
    "\n",
    "    dz_r = dz[:, kk] + r\n",
    "    dy_r = dy[:, jj] + r\n",
    "    dx_r = dx[:, ii] + r\n",
    "\n",
    "    dxr = dx[:, ii] * r\n",
    "    dyr = dy[:, jj] * r\n",
    "    dzr = dz[:, kk] * r\n",
    "    \n",
    "    dydz = dy[:, jj] * dz[:, kk]\n",
    "    dxdy = dx[:, ii] * dy[:, jj]\n",
    "    dxdz = dx[:, ii] * dz[:, kk]\n",
    "    \n",
    "    if dim==\"gx\":\n",
    "        g = (-1) ** (ii + jj + kk) * (dy[:, jj] * np.log(dz_r) + dz[:, kk]* np.log(dy_r) - dx[:, ii] * np.arctan(dydz / dxr))\n",
    "    elif dim==\"gy\":\n",
    "        g = (-1) ** (ii + jj + kk) * (dx[:, ii] * np.log(dz_r) + dz[:, kk]* np.log(dx_r) - dy[:, jj] * np.arctan(dxdz / dyr))\n",
    "    elif dim==\"gz\":\n",
    "        g = (-1) ** (ii + jj + kk) * (dx[:, ii] * np.log(dy_r) + dy[:, jj] * np.log(dx_r) - dz[:, kk]* np.arctan(dxdy / dzr))\n",
    "    elif dim==\"gxx\":\n",
    "        arg = dy[:, jj] * dz[:, kk] / dxr\n",
    "        # It said g-= ... - maybe neet to switch vorzeichen?\n",
    "        g = ((-1) ** (ii + jj + kk) * (dxdy / (r * dz_r)+ dxdz / (r * dy_r)- np.arctan(arg)+ dx[:, ii]* (1.0 / (1 + arg ** 2.0))* dydz/ dxr ** 2.0* (r + dx[:, ii] ** 2.0 / r)))\n",
    "    elif dim==\"gxy\":\n",
    "        arg = dy[:, jj] * dz[:, kk] / dxr\n",
    "        g = ((-1) ** (ii + jj + kk) * (np.log(dz_r)+ dy[:, jj] ** 2.0 / (r * dz_r)+ dz[:, kk] / r- 1.0/ (1 + arg ** 2.0)* (dz[:, kk] / r ** 2)* (r - dy[:, jj] ** 2.0 / r)))\n",
    "    elif dim==\"gxz\":\n",
    "        arg = dy[:, jj] * dz[:, kk] / dxr\n",
    "        g = ((-1) ** (ii + jj + kk) * (np.log(dy_r)+ dz[:, kk] ** 2.0 / (r * dy_r)+ dy[:, jj] / r- 1.0/ (1 + arg ** 2.0)* (dy[:, jj] / (r ** 2))* (r - dz[:, kk] ** 2.0 / r)))\n",
    "    elif dim==\"gyy\":\n",
    "        arg = dx[:, ii] * dz[:, kk] / dyr\n",
    "        g = ((-1) ** (ii + jj + kk) * (dxdy / (r * dz_r)+ dydz / (r * dx_r)- np.arctan(arg)+ dy[:, jj]* (1.0 / (1 + arg ** 2.0))* dxdz/ dyr ** 2.0* (r + dy[:, jj] ** 2.0 / r)))\n",
    "    elif dim==\"gyz\":\n",
    "        arg = dx[:, ii] * dz[:, kk] / dyr\n",
    "        g = ((-1) ** (ii + jj + kk) * (np.log(dx_r)+ dz[:, kk] ** 2.0 / (r * (dx_r))+ dx[:, ii] / r- 1.0/ (1 + arg ** 2.0)* (dx[:, ii] / (r ** 2))* (r - dz[:, kk] ** 2.0 / r)))\n",
    "    elif dim==\"gzz\":\n",
    "        arg = dy[:, jj] * dz[:, kk] / dxr\n",
    "        gxx = ((-1) ** (ii + jj + kk) * (dxdy / (r * dz_r)+ dxdz / (r * dy_r)- np.arctan(arg)+ dx[:, ii]* (1.0 / (1 + arg ** 2.0))* dydz/ dxr ** 2.0* (r + dx[:, ii] ** 2.0 / r)))\n",
    "        arg = dx[:, ii] * dz[:, kk] / dyr\n",
    "        gyy = ((-1) ** (ii + jj + kk) * (dxdy / (r * dz_r)+ dydz / (r * dx_r)- np.arctan(arg)+ dy[:, jj]* (1.0 / (1 + arg ** 2.0))* dxdz/ dyr ** 2.0* (r + dy[:, jj] ** 2.0 / r)))\n",
    "        g=-gxx-gyy\n",
    "    return g\n",
    "\n",
    "def calculate_gravity(model, x_final, y_final, z_final, recvec, jacobian=False, return_both=False):\n",
    "    if return_both==True:\n",
    "        jacobian=True\n",
    "        \n",
    "    # Tolerance implementation follows SimPEG, discussed in Nagy et al., 2000\n",
    "    tol=1e-4\n",
    "\n",
    "    gx_rec=np.zeros(len(recvec))\n",
    "    gy_rec=np.zeros(len(recvec))\n",
    "    gz_rec=np.zeros(len(recvec))\n",
    "    \n",
    "    if jacobian==True:\n",
    "        Jx_rec=np.zeros([len(recvec),len(x_final)])\n",
    "        Jy_rec=np.zeros([len(recvec),len(x_final)])\n",
    "        Jz_rec=np.zeros([len(recvec),len(x_final)])\n",
    "\n",
    "    \n",
    "    for recno in range(len(recvec)):\n",
    "\n",
    "        dx=x_final-recvec[recno,0]\n",
    "        dy=y_final-recvec[recno,1]\n",
    "        dz=z_final-recvec[recno,2]\n",
    "\n",
    "        min_x=np.min(np.diff(dx))\n",
    "        min_y=np.min(np.diff(dy))\n",
    "        min_z=np.min(np.diff(dz))\n",
    "\n",
    "        dx[np.abs(dx) / min_x < tol] = tol * min_x\n",
    "        dy[np.abs(dy) / min_y < tol] = tol * min_y\n",
    "        dz[np.abs(dz) / min_z < tol] = tol * min_z\n",
    "\n",
    "        Jx=0\n",
    "        Jy=0\n",
    "        Jz=0\n",
    "\n",
    "        for ii in range(2):\n",
    "            for jj in range(2):\n",
    "                for kk in range(2):\n",
    "\n",
    "                    # gx, gy apppear to work, but need confcirmation.\n",
    "                    # gz is tested and works\n",
    "                    Jx+=kernel(ii,jj,kk,dx,dy,dz,\"gx\")\n",
    "                    Jy+=kernel(ii,jj,kk,dx,dy,dz,\"gy\")\n",
    "                    Jz+=kernel(ii,jj,kk,dx,dy,dz,\"gz\")\n",
    "                        \n",
    "        \n",
    "        # Multiply J (Nx1) with the model density (Nx1) element-wise\n",
    "        gx_rec[recno] = 1e5*G*sum(model*Jx)\n",
    "        gy_rec[recno] = 1e5*G*sum(model*Jy)\n",
    "        gz_rec[recno] = 1e5*G*sum(model*Jz)\n",
    "        \n",
    "        if jacobian==True:\n",
    "            Jx_rec[recno,:] = Jx\n",
    "            Jy_rec[recno,:] = Jy\n",
    "            Jz_rec[recno,:] = Jz\n",
    "            \n",
    "    if jacobian==False:    \n",
    "        return gx_rec, gy_rec, gz_rec\n",
    "    elif return_both==True:\n",
    "        return gx_rec, gy_rec, gz_rec, Jx_rec,  Jy_rec,  Jz_rec\n",
    "    else: \n",
    "        return Jx_rec,  Jy_rec,  Jz_rec\n",
    "    \n",
    "def calculate_gradiometry(model, x_final, y_final, z_final, recvec):\n",
    "\n",
    "    # Tolerance implementation follows SimPEG, discussed in Nagy et al., 2000\n",
    "    tol=1e-4\n",
    "\n",
    "    gxx_rec=np.zeros(len(recvec))\n",
    "    gxy_rec=np.zeros(len(recvec))\n",
    "    gxz_rec=np.zeros(len(recvec))\n",
    "    gyy_rec=np.zeros(len(recvec))\n",
    "    gyz_rec=np.zeros(len(recvec))\n",
    "    gzz_rec=np.zeros(len(recvec))\n",
    "\n",
    "    for recno in range(len(recvec)):\n",
    "\n",
    "        dx=x_final-recvec[recno,0]\n",
    "        dy=y_final-recvec[recno,1]\n",
    "        dz=z_final-recvec[recno,2]\n",
    "\n",
    "        min_x=np.min(np.diff(dx))\n",
    "        min_y=np.min(np.diff(dy))\n",
    "        min_z=np.min(np.diff(dz))\n",
    "\n",
    "        dx[np.abs(dx) / min_x < tol] = tol * min_x\n",
    "        dy[np.abs(dy) / min_y < tol] = tol * min_y\n",
    "        dz[np.abs(dz) / min_z < tol] = tol * min_z\n",
    "\n",
    "        Jxx=0\n",
    "        Jxy=0\n",
    "        Jxz=0\n",
    "        Jyy=0\n",
    "        Jyz=0\n",
    "        Jzz=0\n",
    "        \n",
    "        for ii in range(2):\n",
    "            for jj in range(2):\n",
    "                for kk in range(2):\n",
    "                    \n",
    "                    # Gradiometry kernels NOT checked yet. Just look good.\n",
    "                    Jxx+=kernel(ii,jj,kk,dx,dy,dz,\"gxx\")\n",
    "                    Jxy+=kernel(ii,jj,kk,dx,dy,dz,\"gxy\")\n",
    "                    Jxz+=kernel(ii,jj,kk,dx,dy,dz,\"gxz\")\n",
    "                    Jyy+=kernel(ii,jj,kk,dx,dy,dz,\"gyy\")\n",
    "                    Jyz+=kernel(ii,jj,kk,dx,dy,dz,\"gyz\")\n",
    "                    Jzz+=kernel(ii,jj,kk,dx,dy,dz,\"gzz\")\n",
    "\n",
    "                    \n",
    "        # Multiply J (Nx1) with the model density (Nx1) element-wise\n",
    "        gxx_rec[recno] = 1e8*G*sum(model*Jxx)\n",
    "        gxy_rec[recno] = 1e8*G*sum(model*Jxy)\n",
    "        gxz_rec[recno] = 1e8*G*sum(model*Jxz)\n",
    "        gyy_rec[recno] = 1e8*G*sum(model*Jyy)\n",
    "        gyz_rec[recno] = 1e8*G*sum(model*Jyz)\n",
    "        gzz_rec[recno] = 1e8*G*sum(model*Jzz)\n",
    "    \n",
    "    \n",
    "    return gxx_rec, gxy_rec, gxz_rec, gyy_rec, gyz_rec, gzz_rec \n",
    "    "
   ]
  },
  {
   "cell_type": "markdown",
   "id": "d99fc934-dc66-4708-84ee-0aa98c4cfed7",
   "metadata": {},
   "source": [
    "### Define recording locations as recvec ###\n"
   ]
  },
  {
   "cell_type": "code",
   "execution_count": 7,
   "id": "19be6c28-8d5a-4f60-88d4-29573322d0c0",
   "metadata": {},
   "outputs": [],
   "source": [
    "# Define coordinates in x and y direction\n",
    "x_rec_slice = np.linspace(-80.0, 80.0, 20)\n",
    "y_rec_slice = np.linspace(-80.0, 80.0, 20)\n",
    "\n",
    "# Combine to get all combinations \n",
    "tmp=cartesian((x_rec_slice,y_rec_slice))\n",
    "z_rec=np.zeros(len(tmp))\n",
    "z_rec=z_rec[:, np.newaxis]\n",
    "rec_coords=np.append(tmp,z_rec,axis=1)\n"
   ]
  },
  {
   "cell_type": "markdown",
   "id": "703dae83-3e60-49ed-8d29-4b3d99ff22ca",
   "metadata": {},
   "source": [
    "### Execute gravity calculation ###\n",
    "\n",
    "Inputs, for N cells in model and M recording locations:\n",
    "\n",
    "- model as a 1D (Nx1) array\n",
    "- x nodes as a (Nx2) array\n",
    "- y nodes as a (Nx2) array\n",
    "- z nodes as a (Nx2) array\n",
    "- recording locations as a (Mx3) array for x, y, z\n",
    "\n",
    "Output of $\\verb|calculate_gravity|$ depends on whether $\\verb|jacobian|$ or $\\verb|calculate_both|$ are set:\n",
    "\n",
    "Default (i.e. both not set):\n",
    "- gx as (Mx1) array\n",
    "- gy as (Mx1) array\n",
    "- gz as (Mx1) array\n",
    "\n",
    "If $\\verb|jacobian==True|$ :\n",
    "- Jx as (MxN) array\n",
    "- Jy as (MxN) array\n",
    "- Jz as (MxN) array\n",
    "\n",
    "If $\\verb|calculate_both==True|$ :\n",
    "- gx as (Mx1) array\n",
    "- gy as (Mx1) array\n",
    "- gz as (Mx1) array\n",
    "- Jx as (MxN) array\n",
    "- Jy as (MxN) array\n",
    "- Jz as (MxN) array\n",
    "\n",
    "Output of $\\verb|calculate_gradiometry|$ :\n",
    "- gxx as (Mx1) array\n",
    "- gxy as (Mx1) array\n",
    "- gxz as (Mx1) array\n",
    "- gyy as (Mx1) array\n",
    "- gyz as (Mx1) array\n",
    "- gzz as (Mx1) array\n",
    "\n"
   ]
  },
  {
   "cell_type": "code",
   "execution_count": 8,
   "id": "1d5f4f36-71b2-4702-ac7a-aeb4a1dfc632",
   "metadata": {},
   "outputs": [],
   "source": [
    "gx_rec, gy_rec, gz_rec = calculate_gravity(model1d, x_final, y_final, z_final, rec_coords)   "
   ]
  },
  {
   "cell_type": "code",
   "execution_count": null,
   "id": "cb97b293-ecd4-49c5-8153-3b09ef1e3a82",
   "metadata": {},
   "outputs": [],
   "source": [
    "# jx_rec, jy_rec, jz_rec = calculate_gravity(model1d, x_final, y_final, z_final, rec_coords, jacobian=True)   "
   ]
  },
  {
   "cell_type": "code",
   "execution_count": 11,
   "id": "2338fac0-cc29-4a2a-9833-475cd25fdf4d",
   "metadata": {},
   "outputs": [],
   "source": [
    "# gx_rec, gy_rec, gz_rec, jx_rec, jy_rec, jz_rec = calculate_gravity(model1d, x_final, y_final, z_final, rec_coords, return_both=True)   "
   ]
  },
  {
   "cell_type": "code",
   "execution_count": null,
   "id": "84ef992a-acd2-4bfe-9d96-d2cf62240cd7",
   "metadata": {},
   "outputs": [],
   "source": [
    "gxx_rec, gxy_rec, gxz_rec, gyy_rec, gyz_rec, gzz_rec  = calculate_gradiometry(model1d, x_final, y_final, z_final, rec_coords)   "
   ]
  },
  {
   "cell_type": "markdown",
   "id": "b36b48c4-56a3-4616-a00a-14678cbba61b",
   "metadata": {},
   "source": [
    "### Plotting ###"
   ]
  },
  {
   "cell_type": "code",
   "execution_count": null,
   "id": "be24522c-0523-47c7-8bb2-dfef64defd52",
   "metadata": {},
   "outputs": [],
   "source": [
    "plt.figure(figsize=(10, 6))\n",
    "plt.plot(gz_rec) \n",
    "plt.title('1D view of gz')\n",
    "plt.xlabel('Recorder number')\n",
    "plt.ylabel('Gravity [mGal]')\n",
    "plt.grid()\n",
    "plt.show()"
   ]
  },
  {
   "cell_type": "code",
   "execution_count": null,
   "id": "d3aad6da-66c9-4294-ad64-aa50752744e0",
   "metadata": {},
   "outputs": [],
   "source": [
    "lxr=len(x_rec_slice)\n",
    "lyr=len(y_rec_slice)\n",
    "\n",
    "\n",
    "limx=max(x_rec_slice)+(x_rec_slice[1]-x_rec_slice[0])*0.5\n",
    "limy=max(y_rec_slice)+(y_rec_slice[1]-y_rec_slice[0])*0.5\n",
    "\n",
    "plt.figure(figsize=(17, 12))\n",
    "plt.subplot(2, 2, 1)\n",
    "plt.scatter(rec_coords[:,0],rec_coords[:,1],s=0.3,color='k')\n",
    "plt.imshow(np.reshape(gz_rec,[lxr,lyr]),extent=[-limx,limx,-limy,limy])\n",
    "plt.title('gz')\n",
    "plt.xlabel('x [m]')\n",
    "plt.ylabel('y [m]')\n",
    "plt.colorbar(label=\"gravity unit [?]\")"
   ]
  },
  {
   "cell_type": "markdown",
   "id": "f7e71b44-fd4c-4137-80ab-a8ec5fc65112",
   "metadata": {},
   "source": [
    "## Compare gravity calculation to \"back of envelope\" calculation ##\n"
   ]
  },
  {
   "cell_type": "code",
   "execution_count": null,
   "id": "22093acf-70e2-4107-a5c9-456998568894",
   "metadata": {},
   "outputs": [],
   "source": [
    "V=10**3 # Cube of 10*10*10m, i.e. 2x2x2 grid cells in current model set-up\n",
    "r=25 # Distance from surface to mid-point of anomaly\n",
    "rho=2000\n",
    "g_test_SI=(rho*V*G)/(r**2)\n",
    "g_test_mGal=g_test_SI*1e5\n",
    "g_test_mGal"
   ]
  },
  {
   "cell_type": "code",
   "execution_count": null,
   "id": "091e4644-03b2-44c8-9f90-69cd2053ffaa",
   "metadata": {},
   "outputs": [],
   "source": [
    "lxr=len(x_rec_slice)\n",
    "lyr=len(y_rec_slice)\n",
    "\n",
    "plt.figure(figsize=(17, 12))\n",
    "plt.subplot(2, 2, 1)\n",
    "plt.scatter(rec_coords[:,0],rec_coords[:,1],s=0.3,color='k')\n",
    "plt.imshow(np.reshape(gz_rec,[lxr,lyr]),extent=[-80,80,-80,80])\n",
    "plt.title('2D view of gz')\n",
    "plt.xlabel('x [m]')\n",
    "plt.ylabel('y [m]')\n",
    "plt.colorbar(label=\"gravity [mGal]\")\n",
    "\n",
    "plt.subplot(2,2, 2)\n",
    "plt.title(\"Model slice at z = 30 m\")\n",
    "plt.imshow(model2d[7][:][:],extent=[-30,30,-30,30])\n",
    "plt.xlabel('x [m]')\n",
    "plt.ylabel('y [m]')\n",
    "plt.colorbar(label=\"density [kg/m$^3$]\")\n",
    "\n",
    "plt.subplot(2, 2, 3)\n",
    "plt.scatter(rec_coords[:,0],rec_coords[:,1],s=0.3,color='k')\n",
    "plt.imshow(np.reshape(gx_rec,[lxr,lyr]),extent=[-80,80,-80,80])\n",
    "plt.title('2D view of gx')\n",
    "plt.xlabel('x [m]')\n",
    "plt.ylabel('y [m]')\n",
    "plt.colorbar(label=\"gravity [mGal]\")\n",
    "\n",
    "plt.subplot(2, 2, 4)\n",
    "plt.scatter(rec_coords[:,0],rec_coords[:,1],s=0.3,color='k')\n",
    "plt.imshow(np.reshape(gy_rec,[lxr,lyr]),extent=[-80,80,-80,80])\n",
    "plt.title('2D view of gy')\n",
    "plt.xlabel('x [m]')\n",
    "plt.ylabel('y [m]')\n",
    "plt.colorbar(label=\"gravity [mGal]\")\n",
    "plt.show()"
   ]
  }
 ],
 "metadata": {
  "kernelspec": {
   "display_name": "Python 3 (ipykernel)",
   "language": "python",
   "name": "python3"
  },
  "language_info": {
   "codemirror_mode": {
    "name": "ipython",
    "version": 3
   },
   "file_extension": ".py",
   "mimetype": "text/x-python",
   "name": "python",
   "nbconvert_exporter": "python",
   "pygments_lexer": "ipython3",
   "version": "3.7.11"
  }
 },
 "nbformat": 4,
 "nbformat_minor": 5
}
